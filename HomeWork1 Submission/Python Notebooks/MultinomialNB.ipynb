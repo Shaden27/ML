{
  "nbformat": 4,
  "nbformat_minor": 0,
  "metadata": {
    "colab": {
      "provenance": [],
      "collapsed_sections": []
    },
    "kernelspec": {
      "name": "python3",
      "display_name": "Python 3"
    },
    "language_info": {
      "name": "python"
    }
  },
  "cells": [
    {
      "cell_type": "code",
      "source": [
        "from google.colab import drive\n",
        "drive.mount('/content/drive', force_remount='True')\n",
        "import pandas as pd\n",
        "import math\n",
        "import re\n",
        "\n",
        "def vocab(sms_spam, sms_spam_test):\n",
        "  #Data Cleaning\n",
        "  sms_spam['SMS'] = sms_spam['SMS'].str.replace('\\W', ' ', regex=True) # Removes punctuation\n",
        "  sms_spam['SMS'] = sms_spam['SMS'].str.lower() # Lowercase\n",
        "  sms_spam['SMS'] = sms_spam['SMS'].str.split() # Word Split\n",
        "  sms_spam_test['SMS'] = sms_spam_test['SMS'].str.replace('\\W', ' ', regex=True) # Removes punctuation\n",
        "  sms_spam_test['SMS'] = sms_spam_test['SMS'].str.lower() # Lowercase\n",
        "  vocabulary = []\n",
        "  for sms in sms_spam['SMS']:\n",
        "    for word in sms:\n",
        "        vocabulary.append(word)\n",
        "\n",
        "  vocabulary = list(set(vocabulary)) # Gives Unique Vocabulary\n",
        "  return sms_spam, sms_spam_test, vocabulary\n",
        "\n",
        "def bernoulli(sms_spam, vocabulary):\n",
        "  word_counts_per_sms = {unique_word: [0] * len(sms_spam['SMS']) for unique_word in vocabulary}\n",
        "\n",
        "  for index, sms in enumerate(sms_spam['SMS']):\n",
        "    for word in sms:\n",
        "        word_counts_per_sms[word][index] += 1\n",
        "\n",
        "  word_counts = pd.DataFrame(word_counts_per_sms)\n",
        "  sms_spam_clean = pd.concat([sms_spam, word_counts], axis=1)\n",
        "  return sms_spam_clean\n",
        "\n",
        "def predict(sms_spam_clean, vocabulary):\n",
        "  # Isolating spam and ham messages first\n",
        "  spam_messages = sms_spam_clean[sms_spam_clean['Label'] == 'spam']\n",
        "  ham_messages = sms_spam_clean[sms_spam_clean['Label'] == 'ham']\n",
        "\n",
        "  # P(Spam) and P(Ham)\n",
        "  p_spam = len(spam_messages) / len(sms_spam_clean)\n",
        "  p_ham = len(ham_messages) / len(sms_spam_clean)\n",
        "\n",
        "  # Number of Words in Spam set\n",
        "  n_words_per_spam_message = spam_messages['SMS'].apply(len)\n",
        "  n_spam = n_words_per_spam_message.sum()\n",
        "\n",
        "  # # Number of Words in Ham set\n",
        "  n_words_per_ham_message = ham_messages['SMS'].apply(len)\n",
        "  n_ham = n_words_per_ham_message.sum()\n",
        "\n",
        "  # Length of Vocabulary\n",
        "  n_vocabulary = len(vocabulary)\n",
        "\n",
        "  # 1-Laplace Smoothing\n",
        "  alpha = 1\n",
        "\n",
        "  # Initiate parameters\n",
        "  parameters_spam = {unique_word:0 for unique_word in vocabulary}\n",
        "  parameters_ham = {unique_word:0 for unique_word in vocabulary}\n",
        "\n",
        "  # Calculate parameters\n",
        "  for word in vocabulary:\n",
        "    n_word_given_spam = spam_messages[word].sum() \n",
        "    p_word_given_spam = (n_word_given_spam + alpha) / (n_spam + alpha * n_vocabulary)\n",
        "    parameters_spam[word] = math.log(p_word_given_spam) # Probability of word in spam\n",
        "\n",
        "    n_word_given_ham = ham_messages[word].sum()\n",
        "    p_word_given_ham = (n_word_given_ham + alpha) / (n_ham + alpha * n_vocabulary)\n",
        "    parameters_ham[word] = math.log(p_word_given_ham) # Probability of word in ham\n",
        "\n",
        "  return p_ham, p_spam, parameters_ham, parameters_spam\n",
        "\n",
        "# Appending the test set with predictions\n",
        "def classify_test_set(message, p_ham, p_spam, parameters_ham, parameters_spam): \n",
        "  message = re.sub('\\W', ' ', message)\n",
        "  message = message.lower().split()\n",
        "\n",
        "  p_spam_given_message = p_spam\n",
        "  p_ham_given_message = p_ham\n",
        "\n",
        "  for word in message:\n",
        "      if word in parameters_spam:\n",
        "        p_spam_given_message += parameters_spam[word]\n",
        "\n",
        "      if word in parameters_ham:\n",
        "        p_ham_given_message += parameters_ham[word]\n",
        "\n",
        "  if p_ham_given_message > p_spam_given_message:\n",
        "      return 'ham'\n",
        "  elif p_spam_given_message > p_ham_given_message:\n",
        "      return 'spam'\n",
        "  elif p_spam_given_message == p_ham_given_message:\n",
        "      return 'Equal Probability'\n",
        "\n",
        "def metric(sms_spam_test):\n",
        "  # Performance Metrics\n",
        "  tp = 0\n",
        "  tn = 0\n",
        "  fp = 0\n",
        "  fn = 0\n",
        "  total = sms_spam_test.shape[0]\n",
        "\n",
        "  for row in sms_spam_test.iterrows():\n",
        "    row = row[1]\n",
        "    if row['Label'] == row['predicted'] and row['Label'] == 'spam':\n",
        "        tp += 1\n",
        "    if row['Label'] == row['predicted'] and row['Label'] == 'ham':\n",
        "        tn += 1\n",
        "    if row['Label'] != row['predicted'] and row['Label'] == 'spam':\n",
        "        fp += 1\n",
        "    if row['Label'] != row['predicted'] and row['Label'] == 'ham':\n",
        "        fn += 1\n",
        "  accuracy = (tp+tn)/total\n",
        "  precision = (tp)/(tp+fp)\n",
        "  recall = (tp)/(tp+fn)\n",
        "  f1_score = (2 * precision *recall)/(precision + recall)\n",
        "\n",
        "  print('Accuracy:', accuracy)\n",
        "  print('Precision:', precision)\n",
        "  print('Recall:', recall)\n",
        "  print('F1 Score:', f1_score)\n",
        "\n",
        "def model(sms_spam, sms_spam_test):\n",
        "  sms_spam, sms_spam_test, vocabulary = vocab(sms_spam, sms_spam_test)\n",
        "  sms_spam_clean = bernoulli(sms_spam, vocabulary)\n",
        "  p_ham, p_spam, parameters_ham, parameters_spam = predict(sms_spam_clean, vocabulary)\n",
        "  sms_spam_test['predicted'] = sms_spam_test['SMS'].apply(classify_test_set, args=(p_ham, p_spam, parameters_ham, parameters_spam)) \n",
        "  metric(sms_spam_test)"
      ],
      "metadata": {
        "id": "C2k3rngZCCcG",
        "colab": {
          "base_uri": "https://localhost:8080/"
        },
        "outputId": "4ac761df-9e46-457b-de3d-4107df36384f"
      },
      "execution_count": null,
      "outputs": [
        {
          "output_type": "stream",
          "name": "stdout",
          "text": [
            "Mounted at /content/drive\n"
          ]
        }
      ]
    },
    {
      "cell_type": "code",
      "source": [
        "# Enron1 Dataset\n",
        "sms_spam = pd.read_csv('/content/drive/MyDrive/Datasets/ML/enron1train.csv', header=None, names=['Label', 'SMS'])\n",
        "sms_spam_test = pd.read_csv('/content/drive/MyDrive/Datasets/ML/enron1test.csv', header=None, names=['Label', 'SMS'])\n",
        "model(sms_spam, sms_spam_test)"
      ],
      "metadata": {
        "colab": {
          "base_uri": "https://localhost:8080/"
        },
        "id": "cRSzZ85uubDG",
        "outputId": "1209068e-5648-4b76-91cd-f0bd1b2c480f"
      },
      "execution_count": null,
      "outputs": [
        {
          "output_type": "stream",
          "name": "stdout",
          "text": [
            "Accuracy: 0.9407894736842105\n",
            "Precision: 0.8657718120805369\n",
            "Recall: 0.9485294117647058\n",
            "F1 Score: 0.9052631578947368\n"
          ]
        }
      ]
    },
    {
      "cell_type": "code",
      "source": [
        "# Enron4 Dataset\n",
        "sms_spam = pd.read_csv('/content/drive/MyDrive/Datasets/ML/enron4train.csv', header=None, names=['Label', 'SMS'])\n",
        "sms_spam_test = pd.read_csv('/content/drive/MyDrive/Datasets/ML/enron4test.csv', header=None, names=['Label', 'SMS'])\n",
        "model(sms_spam, sms_spam_test)"
      ],
      "metadata": {
        "colab": {
          "base_uri": "https://localhost:8080/"
        },
        "id": "qDkTVTcSudSw",
        "outputId": "f5220782-4f95-41d9-b643-0686ee10ea43"
      },
      "execution_count": null,
      "outputs": [
        {
          "output_type": "stream",
          "name": "stdout",
          "text": [
            "Accuracy: 0.9429097605893186\n",
            "Precision: 0.969309462915601\n",
            "Recall: 0.9522613065326633\n",
            "F1 Score: 0.9607097591888467\n"
          ]
        }
      ]
    },
    {
      "cell_type": "code",
      "source": [
        "# HW Dataset\n",
        "sms_spam = pd.read_csv('/content/drive/MyDrive/Datasets/ML/hwtrain.csv', header=None, names=['Label', 'SMS'])\n",
        "sms_spam_test = pd.read_csv('/content/drive/MyDrive/Datasets/ML/hwtest.csv', header=None, names=['Label', 'SMS'])\n",
        "model(sms_spam, sms_spam_test)"
      ],
      "metadata": {
        "colab": {
          "base_uri": "https://localhost:8080/"
        },
        "id": "b578pjOpufif",
        "outputId": "786d73ab-023a-414d-eb58-0f66c4229b63"
      },
      "execution_count": null,
      "outputs": [
        {
          "output_type": "stream",
          "name": "stdout",
          "text": [
            "Accuracy: 0.9414225941422594\n",
            "Precision: 0.8538461538461538\n",
            "Recall: 0.925\n",
            "F1 Score: 0.888\n"
          ]
        }
      ]
    },
    {
      "cell_type": "code",
      "source": [],
      "metadata": {
        "id": "uo_D1yCpujxn"
      },
      "execution_count": null,
      "outputs": []
    }
  ]
}